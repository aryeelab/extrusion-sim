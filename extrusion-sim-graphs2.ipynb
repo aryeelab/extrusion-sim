{
 "cells": [
  {
   "cell_type": "code",
   "execution_count": 2,
   "id": "4b16a859",
   "metadata": {},
   "outputs": [],
   "source": [
    "import Base.show\n",
    "using DataFrames\n",
    "using Random\n",
    "\n",
    "import Pkg\n",
    "#Pkg.add(\"Graphs\")\n",
    "using Graphs"
   ]
  },
  {
   "cell_type": "code",
   "execution_count": 3,
   "id": "006de949",
   "metadata": {},
   "outputs": [],
   "source": [
    "mutable struct Cohesin\n",
    "    processivity::Int64\n",
    "    alive::Int64\n",
    "    left_pos::Int64\n",
    "    right_pos::Int64\n",
    "    left_blocked::Bool\n",
    "    right_blocked::Bool\n",
    "    left_ctcf_captured::Bool\n",
    "    right_ctcf_captured::Bool\n",
    "    extruded_beads::Array{Bool}\n",
    "    \n",
    "    function Cohesin(processivity, polymer_length, alive=0)\n",
    "        loading_pos = rand(1:polymer_length)\n",
    "        new(processivity, alive, loading_pos, loading_pos, false, false, false, false, fill(false, polymer_length))\n",
    "    end\n",
    "end\n",
    "    \n",
    "function Base.show(io::IO, object::Cohesin) \n",
    "        left_blocked_str = string((object.left_blocked) ? \" (Cohesin blocked)\" : \"\", \n",
    "                                  (object.left_ctcf_captured) ? \" (CTCF captured)\" : \"\")\n",
    "        right_blocked_str = string((object.right_blocked) ? \" (Cohesin blocked)\" : \"\", \n",
    "                                   (object.right_ctcf_captured) ? \" (CTCF captured)\" : \"\") \n",
    "        print(io, string(\"Lived \", object.alive, \" of \", object.processivity, \" - \"), \n",
    "                  string(\"Anchors: \", object.left_pos, left_blocked_str, \", \", object.right_pos, right_blocked_str, \" - \"), \n",
    "                  string(\"Extruded beads:\", findall(object.extruded_beads), \"\\n\")) \n",
    "end\n"
   ]
  },
  {
   "cell_type": "code",
   "execution_count": 4,
   "id": "25cee4bf",
   "metadata": {},
   "outputs": [],
   "source": [
    "mutable struct Sim\n",
    "    polymer_length::Int64\n",
    "    bead_size::Int64\n",
    "    cohesins::Array{Cohesin}\n",
    "    plus_ctcfs::DataFrame\n",
    "    minus_ctcfs::DataFrame\n",
    "    occupied_positions::Array{Bool}\n",
    "    processivity::Float64\n",
    "    ctcf_capture_rate::Float64\n",
    "    ctcf_stabilization_factor::Int64\n",
    "    extruded_beads::Array{Bool}\n",
    "    bead_graph::SimpleGraph\n",
    "    \n",
    "    function Sim(n, polymer_length_bp=1e6, processivity_bp=150e3, bead_size = 1e3, \n",
    "                 ctcf_capture_rate=0.25, ctcf_stabilization_factor=4, plus_ctcfs=missing,\n",
    "                 minus_ctcfs=missing)\n",
    "        # Define polymer_length and processity in bead units\n",
    "        polymer_length = Int(polymer_length_bp/bead_size)\n",
    "        processivity = processivity_bp / bead_size\n",
    "        occupied_positions = fill(false, polymer_length)\n",
    "        alive = 0\n",
    "        cohesins = []\n",
    "        bead_graph = path_graph(polymer_length)\n",
    "        for i in 1:n\n",
    "            collision = true\n",
    "            while (collision) \n",
    "                global coh = Cohesin(processivity, polymer_length, alive)\n",
    "                if (!occupied_positions[coh.left_pos])\n",
    "                    collision = false\n",
    "                end\n",
    "            end\n",
    "            occupied_positions[coh.left_pos] = true\n",
    "            alive = round(alive + processivity/n)\n",
    "            push!(cohesins, coh)\n",
    "            add_edge!(bead_graph, coh.left_pos, copy(coh.left_pos))\n",
    "        end\n",
    "        empty_ctcf_df = DataFrame(pos_bp=Float64[], pos=Int64[], occupancy_rate=Float64[], bound_cohesin=Bool[])\n",
    "        if ismissing(plus_ctcfs)\n",
    "            plus_ctcfs = deepcopy(empty_ctcf_df)\n",
    "        end\n",
    "        if ismissing(minus_ctcfs)\n",
    "            minus_ctcfs = deepcopy(empty_ctcf_df)\n",
    "        end\n",
    "        new(polymer_length, bead_size, cohesins, plus_ctcfs, minus_ctcfs, occupied_positions, \n",
    "            processivity, ctcf_capture_rate, ctcf_stabilization_factor, fill(false, polymer_length), bead_graph)            \n",
    "    end\n",
    "end\n",
    "\n",
    "function Base.show(io::IO, object::Sim)\n",
    "    print(io, string(\"Cohesin positions: \", findall(object.occupied_positions), \"\\n\"),\n",
    "              string(\"Extruded beads: \", sum(object.extruded_beads), \" of \", object.polymer_length, \"\\n\"),\n",
    "              string(\"Plus CTCF positions (bound fraction): \", object.plus_ctcfs.pos_bp, \n",
    "                        \"(\", object.plus_ctcfs.occupancy_rate, \") \", \"\\n\"),\n",
    "              string(\"Minus CTCF positions (bound fraction): \", object.minus_ctcfs.pos_bp, \n",
    "                        \"(\", object.minus_ctcfs.occupancy_rate, \") \", \"\\n\"), \"Individual cohesins:\")\n",
    "    for coh in object.cohesins \n",
    "        show(coh)\n",
    "    end\n",
    "end"
   ]
  },
  {
   "cell_type": "code",
   "execution_count": 5,
   "id": "13da4816",
   "metadata": {},
   "outputs": [
    {
     "data": {
      "text/plain": [
       "add_ctcf (generic function with 2 methods)"
      ]
     },
     "execution_count": 5,
     "metadata": {},
     "output_type": "execute_result"
    }
   ],
   "source": [
    "function add_ctcf(object::Sim, orientation, pos_bp, occupancy_rate=1) \n",
    "    if orientation==\"+\" \n",
    "        push!(object.plus_ctcfs, (pos_bp, ceil(pos_bp/object.bead_size), occupancy_rate, false))\n",
    "        sort!(object.plus_ctcfs, :pos_bp, rev=true)\n",
    "    end\n",
    "    if orientation==\"-\"\n",
    "        push!(object.minus_ctcfs, (pos_bp, ceil(pos_bp/object.bead_size), occupancy_rate, false))\n",
    "        sort!(object.minus_ctcfs, :pos_bp, rev=false)\n",
    "    end\n",
    "    object\n",
    "end"
   ]
  },
  {
   "cell_type": "code",
   "execution_count": 6,
   "id": "2ea99dd6",
   "metadata": {},
   "outputs": [
    {
     "data": {
      "text/plain": [
       "delete_ctcf (generic function with 1 method)"
      ]
     },
     "execution_count": 6,
     "metadata": {},
     "output_type": "execute_result"
    }
   ],
   "source": [
    "function delete_ctcf(object::Sim, pos_bp)\n",
    "    idx = indexin(pos_bp, object.plus_ctcfs.pos_bp)[1]\n",
    "    if idx != nothing\n",
    "        delete!(object.plus_ctcfs, [idx])\n",
    "    end\n",
    "    idx = indexin(pos_bp, object.minus_ctcfs.pos_bp)[1]\n",
    "    if idx != nothing\n",
    "        delete!(object.minus_ctcfs, [idx])\n",
    "    end\n",
    "    object\n",
    "end"
   ]
  },
  {
   "cell_type": "code",
   "execution_count": 7,
   "id": "d09045ca",
   "metadata": {},
   "outputs": [
    {
     "data": {
      "text/plain": [
       "advance (generic function with 1 method)"
      ]
     },
     "execution_count": 7,
     "metadata": {},
     "output_type": "execute_result"
    }
   ],
   "source": [
    "function advance(object::Sim)\n",
    "    occupied_positions = object.occupied_positions\n",
    "    for i in 1:length(object.cohesins)\n",
    "        coh = object.cohesins[i]\n",
    "        coh.alive += 1\n",
    "        if coh.alive >= coh.processivity\n",
    "            # println(\"Cohesin fell off!\")\n",
    "            rem_edge!(object.bead_graph, coh.left_pos, coh.right_pos)\n",
    "            occupied_positions[coh.left_pos] = false\n",
    "            occupied_positions[coh.right_pos] = false\n",
    "            # Release CTCF (if any)\n",
    "            idx = indexin(coh.left_pos, object.plus_ctcfs.pos)[1]\n",
    "            if idx != nothing\n",
    "                object.plus_ctcfs.bound_cohesin[idx] = false\n",
    "            end\n",
    "            idx = indexin(coh.right_pos, object.minus_ctcfs.pos)[1]\n",
    "            if idx != nothing\n",
    "                object.minus_ctcfs.bound_cohesin[idx] = false\n",
    "            end\n",
    "            # Generate a new one (making sure it doesn't overlap an existing one)\n",
    "            collision = true\n",
    "            while (collision)\n",
    "                coh = Cohesin(object.processivity, object.polymer_length)\n",
    "                if (!occupied_positions[coh.left_pos])\n",
    "                    collision = false\n",
    "                end\n",
    "            end\n",
    "            occupied_positions[coh.left_pos] = true\n",
    "            add_edge!(object.bead_graph, coh.left_pos, coh.left_pos) \n",
    "        else\n",
    "            # LEFT\n",
    "            new_left = coh.left_pos - 1\n",
    "            if (!coh.left_ctcf_captured)\n",
    "                # Left side captured by a CTCF?\n",
    "                for idx in findall((object.plus_ctcfs.pos .== new_left) .& (object.plus_ctcfs.bound_cohesin .== false))\n",
    "                    if rand(Float64) < object.plus_ctcfs.occupancy_rate[idx] * object.ctcf_capture_rate\n",
    "                        # println(\"Captured!\")\n",
    "                        object.plus_ctcfs.bound_cohesin[idx] = true\n",
    "                        coh.left_ctcf_captured = true\n",
    "                        coh.processivity = object.processivity * object.ctcf_stabilization_factor\n",
    "                    end\n",
    "                end\n",
    "                if (new_left>=1) \n",
    "                    if (occupied_positions[new_left]==false)\n",
    "                        coh.left_blocked = false\n",
    "                        if coh.left_pos != coh.right_pos\n",
    "                            occupied_positions[coh.left_pos] = false\n",
    "                        end\n",
    "                        rem_edge!(object.bead_graph, coh.left_pos, coh.right_pos)\n",
    "                        add_edge!(object.bead_graph, new_left, coh.right_pos)\n",
    "                        coh.left_pos = new_left\n",
    "                        occupied_positions[new_left] = true\n",
    "                    end\n",
    "                else\n",
    "                    coh.left_blocked = true\n",
    "                end\n",
    "            end\n",
    "            # RIGHT\n",
    "            new_right = coh.right_pos + 1\n",
    "            if (!coh.right_ctcf_captured)\n",
    "                # Right side captured by a CTCF?\n",
    "                for idx in findall((object.minus_ctcfs.pos .== new_right) .& (object.minus_ctcfs.bound_cohesin .== false))\n",
    "                    if rand(Float64) < object.minus_ctcfs.occupancy_rate[idx] * object.ctcf_capture_rate\n",
    "                        # println(\"Captured!\")\n",
    "                        object.minus_ctcfs.bound_cohesin[idx] = true\n",
    "                        coh.right_ctcf_captured = true\n",
    "                        coh.processivity = object.processivity * object.ctcf_stabilization_factor\n",
    "                    end\n",
    "                end\n",
    "                if (new_right<=object.polymer_length)\n",
    "                    if (occupied_positions[new_right]==false)\n",
    "                        coh.right_blocked = false\n",
    "                        if coh.left_pos != coh.right_pos\n",
    "                            occupied_positions[coh.right_pos] = false\n",
    "                        end\n",
    "                        rem_edge!(object.bead_graph, coh.left_pos, coh.right_pos)\n",
    "                        add_edge!(object.bead_graph, coh.left_pos, new_right)\n",
    "                        coh.right_pos = new_right\n",
    "                        occupied_positions[new_right] = true\n",
    "                    end\n",
    "                else\n",
    "                    coh.right_blocked = true\n",
    "                end\n",
    "            end\n",
    "            if coh.right_pos - coh.left_pos >= 2\n",
    "                coh.extruded_beads[((coh.left_pos+1):(coh.right_pos-1))] .= true\n",
    "            end\n",
    "        end\n",
    "        object.cohesins[i] = coh\n",
    "    end\n",
    "    object.occupied_positions = occupied_positions\n",
    "    extruded_beads_sum = fill(false, object.polymer_length)\n",
    "    for coh in object.cohesins\n",
    "        extruded_beads_sum = extruded_beads_sum .| coh.extruded_beads\n",
    "    end\n",
    "    object.extruded_beads = extruded_beads_sum\n",
    "    object\n",
    "end"
   ]
  },
  {
   "cell_type": "code",
   "execution_count": 8,
   "id": "8d0050c0",
   "metadata": {},
   "outputs": [
    {
     "data": {
      "text/plain": [
       "effective_dist (generic function with 1 method)"
      ]
     },
     "execution_count": 8,
     "metadata": {},
     "output_type": "execute_result"
    }
   ],
   "source": [
    "function effective_dist(object::Sim, pointA::Int64, pointB::Int64)\n",
    "    length(a_star(object.bead_graph, pointA, pointB))\n",
    "end"
   ]
  },
  {
   "cell_type": "code",
   "execution_count": 9,
   "id": "c0eac685",
   "metadata": {},
   "outputs": [
    {
     "data": {
      "text/plain": [
       "plot_fiber (generic function with 4 methods)"
      ]
     },
     "execution_count": 9,
     "metadata": {},
     "output_type": "execute_result"
    }
   ],
   "source": [
    "function plot_fiber(object::Sim, xmin=nothing, xmax=nothing, main=nothing)\n",
    "    \n",
    "end"
   ]
  },
  {
   "cell_type": "markdown",
   "id": "6da6b4ea",
   "metadata": {},
   "source": [
    "# Test example:"
   ]
  },
  {
   "cell_type": "code",
   "execution_count": 10,
   "id": "2b3ea731",
   "metadata": {},
   "outputs": [
    {
     "data": {
      "text/plain": [
       "Cohesin positions: [1, 94, 131, 241, 242, 243, 289, 290, 297, 324, 352, 413, 414, 452, 460, 614, 615, 674, 675, 733]\n",
       "Extruded beads: 647 of 1000\n",
       "Plus CTCF positions (bound fraction): Float64[](Float64[]) \n",
       "Minus CTCF positions (bound fraction): Float64[](Float64[]) \n",
       "Individual cohesins:"
      ]
     },
     "execution_count": 10,
     "metadata": {},
     "output_type": "execute_result"
    },
    {
     "name": "stdout",
     "output_type": "stream",
     "text": [
      "Lived 50 of 150 - Anchors: 615, 674 - Extruded beads:[616, 617, 618, 619, 620, 621, 622, 623, 624, 625, 626, 627, 628, 629, 630, 631, 632, 633, 634, 635, 636, 637, 638, 639, 640, 641, 642, 643, 644, 645, 646, 647, 648, 649, 650, 651, 652, 653, 654, 655, 656, 657, 658, 659, 660, 661, 662, 663, 664, 665, 666, 667, 668, 669, 670, 671, 672, 673]\n",
      "Lived 65 of 150 - Anchors: 675, 733 - Extruded beads:[676, 677, 678, 679, 680, 681, 682, 683, 684, 685, 686, 687, 688, 689, 690, 691, 692, 693, 694, 695, 696, 697, 698, 699, 700, 701, 702, 703, 704, 705, 706, 707, 708, 709, 710, 711, 712, 713, 714, 715, 716, 717, 718, 719, 720, 721, 722, 723, 724, 725, 726, 727, 728, 729, 730, 731, 732]\n",
      "Lived 80 of 150 - Anchors: 1 (Cohesin blocked), 94 - Extruded beads:[2, 3, 4, 5, 6, 7, 8, 9, 10, 11, 12, 13, 14, 15, 16, 17, 18, 19, 20, 21, 22, 23, 24, 25, 26, 27, 28, 29, 30, 31, 32, 33, 34, 35, 36, 37, 38, 39, 40, 41, 42, 43, 44, 45, 46, 47, 48, 49, 50, 51, 52, 53, 54, 55, 56, 57, 58, 59, 60, 61, 62, 63, 64, 65, 66, 67, 68, 69, 70, 71, 72, 73, 74, 75, 76, 77, 78, 79, 80, 81, 82, 83, 84, 85, 86, 87, 88, 89, 90, 91, 92, 93]\n",
      "Lived 95 of 150 - Anchors: 131, 241 - Extruded beads:[132, 133, 134, 135, 136, 137, 138, 139, 140, 141, 142, 143, 144, 145, 146, 147, 148, 149, 150, 151, 152, 153, 154, 155, 156, 157, 158, 159, 160, 161, 162, 163, 164, 165, 166, 167, 168, 169, 170, 171, 172, 173, 174, 175, 176, 177, 178, 179, 180, 181, 182, 183, 184, 185, 186, 187, 188, 189, 190, 191, 192, 193, 194, 195, 196, 197, 198, 199, 200, 201, 202, 203, 204, 205, 206, 207, 208, 209, 210, 211, 212, 213, 214, 215, 216, 217, 218, 219, 220, 221, 222, 223, 224, 225, 226, 227, 228, 229, 230, 231, 232, 233, 234, 235, 236, 237, 238, 239, 240]\n",
      "Lived 110 of 150 - Anchors: 242, 324 - Extruded beads:[243, 244, 245, 246, 247, 248, 249, 250, 251, 252, 253, 254, 255, 256, 257, 258, 259, 260, 261, 262, 263, 264, 265, 266, 267, 268, 269, 270, 271, 272, 273, 274, 275, 276, 277, 278, 279, 280, 281, 282, 283, 284, 285, 286, 287, 288, 289, 290, 291, 292, 293, 294, 295, 296, 297, 298, 299, 300, 301, 302, 303, 304, 305, 306, 307, 308, 309, 310, 311, 312, 313, 314, 315, 316, 317, 318, 319, 320, 321, 322, 323]\n",
      "Lived 125 of 150 - Anchors: 460, 614 - Extruded beads:[461, 462, 463, 464, 465, 466, 467, 468, 469, 470, 471, 472, 473, 474, 475, 476, 477, 478, 479, 480, 481, 482, 483, 484, 485, 486, 487, 488, 489, 490, 491, 492, 493, 494, 495, 496, 497, 498, 499, 500, 501, 502, 503, 504, 505, 506, 507, 508, 509, 510, 511, 512, 513, 514, 515, 516, 517, 518, 519, 520, 521, 522, 523, 524, 525, 526, 527, 528, 529, 530, 531, 532, 533, 534, 535, 536, 537, 538, 539, 540, 541, 542, 543, 544, 545, 546, 547, 548, 549, 550, 551, 552, 553, 554, 555, 556, 557, 558, 559, 560, 561, 562, 563, 564, 565, 566, 567, 568, 569, 570, 571, 572, 573, 574, 575, 576, 577, 578, 579, 580, 581, 582, 583, 584, 585, 586, 587, 588, 589, 590, 591, 592, 593, 594, 595, 596, 597, 598, 599, 600, 601, 602, 603, 604, 605, 606, 607, 608, 609, 610, 611, 612, 613]\n",
      "Lived 140 of 150 - Anchors: 352, 413 - Extruded beads:[353, 354, 355, 356, 357, 358, 359, 360, 361, 362, 363, 364, 365, 366, 367, 368, 369, 370, 371, 372, 373, 374, 375, 376, 377, 378, 379, 380, 381, 382, 383, 384, 385, 386, 387, 388, 389, 390, 391, 392, 393, 394, 395, 396, 397, 398, 399, 400, 401, 402, 403, 404, 405, 406, 407, 408, 409, 410, 411, 412]\n",
      "Lived 5 of 150 - Anchors: 290, 297 - Extruded beads:[291, 292, 293, 294, 295, 296]\n",
      "Lived 20 of 150 - Anchors: 414, 452 - Extruded beads:[415, 416, 417, 418, 419, 420, 421, 422, 423, 424, 425, 426, 427, 428, 429, 430, 431, 432, 433, 434, 435, 436, 437, 438, 439, 440, 441, 442, 443, 444, 445, 446, 447, 448, 449, 450, 451]\n",
      "Lived 35 of 150 - Anchors: 243, 289 - Extruded beads:[244, 245, 246, 247, 248, 249, 250, 251, 252, 253, 254, 255, 256, 257, 258, 259, 260, 261, 262, 263, 264, 265, 266, 267, 268, 269, 270, 271, 272, 273, 274, 275, 276, 277, 278, 279, 280, 281, 282, 283, 284, 285, 286, 287, 288]\n"
     ]
    }
   ],
   "source": [
    "object = Sim(10)\n",
    "for i in 1:200000\n",
    "    advance(object)\n",
    "end\n",
    "object"
   ]
  }
 ],
 "metadata": {
  "kernelspec": {
   "display_name": "Julia 1.8.5",
   "language": "julia",
   "name": "julia-1.8"
  },
  "language_info": {
   "file_extension": ".jl",
   "mimetype": "application/julia",
   "name": "julia",
   "version": "1.8.5"
  }
 },
 "nbformat": 4,
 "nbformat_minor": 5
}
